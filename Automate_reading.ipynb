{
 "cells": [
  {
   "cell_type": "code",
   "execution_count": 1,
   "metadata": {},
   "outputs": [],
   "source": [
    "from bs4 import BeautifulSoup\n",
    "import requests\n",
    "from os import system"
   ]
  },
  {
   "cell_type": "code",
   "execution_count": 2,
   "metadata": {},
   "outputs": [],
   "source": [
    "DOMAIN_URL = 'www.test.com'"
   ]
  },
  {
   "cell_type": "code",
   "execution_count": 3,
   "metadata": {},
   "outputs": [],
   "source": [
    "def read_chapter(current_chapter): # reads current chapter, returns href of next chapter\n",
    "    complete_url = DOMAIN_URL + current_chapter\n",
    "    print(complete_url)\n",
    "    resp = requests.get(complete_url)\n",
    "    soupified_resp = BeautifulSoup(resp.text, 'html.parser')\n",
    "\n",
    "    content = soupified_resp.select(\"#chr-content\")[0]\n",
    "\n",
    "    to_read = []\n",
    "    for elem in content:\n",
    "        to_read.append(elem.text)\n",
    "\n",
    "    for sentence in to_read:\n",
    "        system(f'say {sentence}')\n",
    "\n",
    "    next_chapter_tag = soupified_resp.find(id='next_chap') # <a/> tag \n",
    "    NEXT_CHAPTER = next_chapter_tag.attrs['href']\n",
    "    print('NEXT_CHAPTER: ', NEXT_CHAPTER)\n",
    "    return NEXT_CHAPTER\n",
    "    \n"
   ]
  },
  {
   "cell_type": "code",
   "execution_count": 40,
   "metadata": {},
   "outputs": [],
   "source": [
    "def read_chapter_new(current_chapter): # reads current chapter, returns href of next chapter\n",
    "    complete_url = DOMAIN_URL + current_chapter\n",
    "    print(complete_url)\n",
    "    resp = requests.get(complete_url)\n",
    "    soupified_resp = BeautifulSoup(resp.text, 'html.parser')\n",
    "\n",
    "    to_read = []\n",
    "    for tag in soupified_resp.findAll('p'):\n",
    "        to_read.append(tag.text)\n",
    "\n",
    "    for sentence in to_read:\n",
    "        system(f'say {sentence}')\n",
    "\n",
    "    next_chapter_tag = soupified_resp.find(id='next_chap') # <a/> tag \n",
    "    NEXT_CHAPTER = next_chapter_tag.attrs['href']\n",
    "    print('NEXT_CHAPTER: ', NEXT_CHAPTER)\n",
    "    return NEXT_CHAPTER\n",
    "    \n"
   ]
  },
  {
   "cell_type": "code",
   "execution_count": 41,
   "metadata": {},
   "outputs": [],
   "source": [
    "current_chapter = '/name-of-novel/chapter-2021.html'"
   ]
  },
  {
   "cell_type": "code",
   "execution_count": null,
   "metadata": {},
   "outputs": [],
   "source": [
    "chapters_to_read = 10\n",
    "for i in range(chapters_to_read):\n",
    "    current_chapter = read_chapter_new(current_chapter)"
   ]
  }
 ],
 "metadata": {
  "kernelspec": {
   "display_name": "Python 3",
   "language": "python",
   "name": "python3"
  },
  "language_info": {
   "codemirror_mode": {
    "name": "ipython",
    "version": 3
   },
   "file_extension": ".py",
   "mimetype": "text/x-python",
   "name": "python",
   "nbconvert_exporter": "python",
   "pygments_lexer": "ipython3",
   "version": "3.6.4"
  }
 },
 "nbformat": 4,
 "nbformat_minor": 2
}
